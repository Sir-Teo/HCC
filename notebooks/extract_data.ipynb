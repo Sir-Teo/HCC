{
 "cells": [
  {
   "cell_type": "code",
   "execution_count": 1,
   "id": "5cf8a699-6d49-4445-8f95-aa952693228d",
   "metadata": {},
   "outputs": [
    {
     "name": "stderr",
     "output_type": "stream",
     "text": [
      "Matplotlib created a temporary cache directory at /tmp/matplotlib-7_qzfeov because the default path (/gpfs/home/wz1492/.config/matplotlib) is not a writable directory; it is highly recommended to set the MPLCONFIGDIR environment variable to a writable directory, in particular to speed up the import of Matplotlib and to better support multiprocessing.\n"
     ]
    }
   ],
   "source": [
    "import os\n",
    "import pydicom\n",
    "import numpy as np\n",
    "import matplotlib.pyplot as plt\n",
    "from concurrent.futures import ThreadPoolExecutor\n",
    "from tqdm import tqdm\n",
    "\n",
    "# Define the path to the root directory containing DICOM folders\n",
    "dicom_root = '/gpfs/data/mankowskilab/HCC_Recurrence/dicom'"
   ]
  },
  {
   "cell_type": "code",
   "execution_count": 2,
   "id": "632c0742-4ca5-418d-9707-226c3c6a7775",
   "metadata": {},
   "outputs": [
    {
     "name": "stdout",
     "output_type": "stream",
     "text": [
      "Found 139322 DICOM files.\n"
     ]
    }
   ],
   "source": [
    "# Function to get all DICOM file paths\n",
    "def get_dicom_files(root_dir):\n",
    "    dicom_files = []\n",
    "    for root, _, files in os.walk(root_dir):\n",
    "        for file in sorted(files, key=lambda x: int(os.path.splitext(x)[0]) if x[:-4].isdigit() else x):  # Sort numerically if possible\n",
    "            if file.endswith('.dcm'):\n",
    "                dicom_files.append(os.path.join(root, file))\n",
    "    return dicom_files\n",
    "# Load DICOM files\n",
    "dicom_files = get_dicom_files(dicom_root)\n",
    "print(f\"Found {len(dicom_files)} DICOM files.\")"
   ]
  },
  {
   "cell_type": "code",
   "execution_count": 4,
   "id": "6515a877-289e-4e6f-8896-96c399701447",
   "metadata": {},
   "outputs": [
    {
     "name": "stderr",
     "output_type": "stream",
     "text": [
      "Processing DICOM files: 100%|██████████| 139322/139322 [39:53<00:00, 58.20it/s] "
     ]
    },
    {
     "name": "stdout",
     "output_type": "stream",
     "text": [
      "Metadata saved to dicom_metadata.csv\n"
     ]
    },
    {
     "name": "stderr",
     "output_type": "stream",
     "text": [
      "\n"
     ]
    }
   ],
   "source": [
    "import csv\n",
    "\n",
    "# Function to extract metadata from a DICOM file, excluding PixelData\n",
    "def extract_metadata(file_path, tags):\n",
    "    try:\n",
    "        dicom = pydicom.dcmread(file_path, stop_before_pixels=True)\n",
    "        metadata = {tag: getattr(dicom, tag, None) for tag in tags if tag != \"PixelData\"}\n",
    "        return metadata\n",
    "    except Exception as e:\n",
    "        print(f\"Error reading {file_path}: {e}\")\n",
    "        return None\n",
    "\n",
    "# Function to extract metadata for all files and save to CSV\n",
    "def save_metadata_to_csv(dicom_files, tags, output_csv):\n",
    "    with open(output_csv, mode='w', newline='') as csv_file:\n",
    "        writer = csv.DictWriter(csv_file, fieldnames=tags)\n",
    "        writer.writeheader()\n",
    "\n",
    "        for file_path in tqdm(dicom_files, desc=\"Processing DICOM files\"):\n",
    "            metadata = extract_metadata(file_path, tags)\n",
    "            if metadata:\n",
    "                writer.writerow(metadata)\n",
    "\n",
    "# Save the metadata to a CSV file\n",
    "output_csv = 'dicom_metadata.csv'\n",
    "save_metadata_to_csv(dicom_files, unique_tags, output_csv)\n",
    "\n",
    "print(f\"Metadata saved to {output_csv}\")\n"
   ]
  },
  {
   "cell_type": "code",
   "execution_count": null,
   "id": "ca02a7e3-e2ef-4713-981c-1d63f8f759bb",
   "metadata": {},
   "outputs": [],
   "source": []
  }
 ],
 "metadata": {
  "kernelspec": {
   "display_name": "Python 3 (ipykernel)",
   "language": "python",
   "name": "python3"
  },
  "language_info": {
   "codemirror_mode": {
    "name": "ipython",
    "version": 3
   },
   "file_extension": ".py",
   "mimetype": "text/x-python",
   "name": "python",
   "nbconvert_exporter": "python",
   "pygments_lexer": "ipython3",
   "version": "3.13.0"
  }
 },
 "nbformat": 4,
 "nbformat_minor": 5
}
